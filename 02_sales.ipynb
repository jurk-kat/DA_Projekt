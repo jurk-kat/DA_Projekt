{
 "cells": [
  {
   "cell_type": "markdown",
   "metadata": {},
   "source": [
    "### Importujem tabulku, přejmenujem sloupečky: "
   ]
  },
  {
   "cell_type": "code",
   "execution_count": null,
   "metadata": {},
   "outputs": [],
   "source": [
    "import pandas as pd\n",
    "\n",
    "sales = pd.read_csv(\"data/02_Sales.csv\")\n",
    "sales = sales.rename(columns={\"Måned\": \"Month\", \"Dag\": \"Day\", \"Time\": \"Hours\", \"Varegruppe\": \"Product group\", \"Antall\": \"Units sold\", \"Belåp m/mva\": \"Amount with VAT\"})\n",
    "sales\n"
   ]
  },
  {
   "cell_type": "markdown",
   "metadata": {},
   "source": [
    "### Zbavíme se řádků s nulovýma hodnotama"
   ]
  },
  {
   "cell_type": "code",
   "execution_count": null,
   "metadata": {},
   "outputs": [],
   "source": [
    "# sales = sales.set_index(\"Month\") \n",
    "without_sums = sales.dropna()\n",
    "without_sums\n"
   ]
  },
  {
   "cell_type": "markdown",
   "metadata": {},
   "source": [
    "### Modifikujem datum, aby pak sedělo s formátem 2023-01-01T04:00"
   ]
  },
  {
   "cell_type": "markdown",
   "metadata": {},
   "source": [
    "##Přidáme sloupeček rok:"
   ]
  },
  {
   "cell_type": "code",
   "execution_count": null,
   "metadata": {},
   "outputs": [],
   "source": [
    "without_sums.insert(loc=0, column=\"Year\", value=2023)\n",
    "without_sums"
   ]
  },
  {
   "cell_type": "markdown",
   "metadata": {},
   "source": [
    "#### Hodíme si tam nuly do dnů a do měsíců, ať to máme jednotný"
   ]
  },
  {
   "cell_type": "code",
   "execution_count": null,
   "metadata": {},
   "outputs": [],
   "source": [
    "# cislo = without_sums[\"Month\"].apply(func=without_sums[\"Month\"].rjust(2, \"0\"))\n",
    "# cislo\n",
    "\n",
    "without_sums[\"Month\"] = without_sums[\"Month\"].str.rjust(2, \"0\")\n",
    "without_sums[\"Day\"] = without_sums[\"Day\"].str.rjust(2, \"0\")\n",
    "without_sums[\"Hours\"] = without_sums[\"Hours\"].str.rjust(2, \"0\")\n",
    "without_sums"
   ]
  },
  {
   "cell_type": "markdown",
   "metadata": {},
   "source": [
    "2023-01-01T04:00"
   ]
  },
  {
   "cell_type": "code",
   "execution_count": null,
   "metadata": {},
   "outputs": [],
   "source": [
    "without_sums[\"Datetime\"] = without_sums[\"Year\"].astype(str) + \"-\" + without_sums[\"Month\"] + \"-\" + without_sums[\"Day\"] + \"T\" + without_sums[\"Hours\"] + \":\" + \"00\"\n",
    "without_sums = without_sums[[\"Datetime\", \"Product group\", \"Units sold\", \"Amount with VAT\"]]\n",
    "without_sums[\"Datetime\"] = pd.to_datetime(without_sums[\"Datetime\"], errors='coerce')\n",
    "\n",
    "without_sums.to_csv(\"data/sales.csv\")"
   ]
  }
 ],
 "metadata": {
  "kernelspec": {
   "display_name": "Python 3",
   "language": "python",
   "name": "python3"
  },
  "language_info": {
   "codemirror_mode": {
    "name": "ipython",
    "version": 3
   },
   "file_extension": ".py",
   "mimetype": "text/x-python",
   "name": "python",
   "nbconvert_exporter": "python",
   "pygments_lexer": "ipython3",
   "version": "3.12.2"
  }
 },
 "nbformat": 4,
 "nbformat_minor": 2
}
