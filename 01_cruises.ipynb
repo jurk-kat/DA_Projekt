{
 "cells": [
  {
   "cell_type": "code",
   "execution_count": null,
   "metadata": {},
   "outputs": [],
   "source": [
    "import pandas as pd\n",
    "from datetime import timedelta"
   ]
  },
  {
   "cell_type": "markdown",
   "metadata": {},
   "source": [
    "#### Načtení tabulky 01_cruises.csv + seřazení sloupců"
   ]
  },
  {
   "cell_type": "code",
   "execution_count": null,
   "metadata": {},
   "outputs": [],
   "source": [
    "cruises = pd.read_csv('data/01_cruises.csv')\n",
    "cruises = cruises[['Dato','ETA','ETD','Navn','Passasjerer', 'Agent', 'Kai','Tonn', 'Lengde']]"
   ]
  },
  {
   "cell_type": "markdown",
   "metadata": {},
   "source": [
    "#### Sjednocení názvů lodí"
   ]
  },
  {
   "cell_type": "code",
   "execution_count": null,
   "metadata": {},
   "outputs": [],
   "source": [
    "cruises['Navn'] = cruises['Navn'].replace('Preziosa', 'MSC Preziosa')\n",
    "cruises['Navn'] = cruises['Navn'].replace('Aidaluna', 'AIDAluna')\n",
    "cruises['Navn'] = cruises['Navn'].replace('AidaMar', 'AIDAmar')"
   ]
  },
  {
   "cell_type": "markdown",
   "metadata": {},
   "source": [
    "#### Doplnění/oprava časů u lodí, o kterých máme informace, že dopluly jindy; doplneni poctu pasazeru"
   ]
  },
  {
   "cell_type": "code",
   "execution_count": null,
   "metadata": {},
   "outputs": [],
   "source": [
    "\n",
    "def corrections(df, updates):\n",
    "    for row, collumn, value in updates:\n",
    "        if pd.isna(df.loc[row, collumn]):\n",
    "            df.loc[row, collumn] = value\n",
    "\n",
    "# Define all updates in a list of tuples\n",
    "update = [\n",
    "    (9, 'Passasjerer', 2194),\n",
    "    (11, 'Passasjerer', 2194),\n",
    "    (16, 'ETA', '08:00'),\n",
    "    (16, 'ETD', '17:00'),\n",
    "    (22, 'Passasjerer', 192),\n",
    "    (31, 'Passasjerer', 1338),\n",
    "    (47, 'ETD', '23:00'),\n",
    "    (49, 'ETA', '00:00'),\n",
    "    (54, 'Passasjerer', 200),\n",
    "    (66, 'Passasjerer', 192),\n",
    "    (72, 'Passasjerer', 192),\n",
    "    (77, 'Passasjerer', 1353),\n",
    "    (101, 'Passasjerer', 192),\n",
    "    (113, 'ETD', '23:00')\n",
    "]\n",
    "\n",
    "corrections(cruises, update)"
   ]
  },
  {
   "cell_type": "code",
   "execution_count": null,
   "metadata": {},
   "outputs": [],
   "source": [
    "# # Kontrola toho, ze uz nemame v cruises hodnoty s nevyplnenym casem\n",
    "lode = cruises[['Navn','Passasjerer','Dato','ETA','ETD']] #timhle si vyberu, ktere tabulky maji chybu a kuzu si to zkontrolovat v tabulce s rozpisem sluzeb, kdy lode opravdu dojely\n",
    "\n",
    "nula = lode[lode.isna().any(axis=1)]\n",
    "nula"
   ]
  },
  {
   "cell_type": "markdown",
   "metadata": {},
   "source": [
    "#### Odstraneni lodi, ktere nedopluly"
   ]
  },
  {
   "cell_type": "code",
   "execution_count": null,
   "metadata": {},
   "outputs": [],
   "source": [
    "# zbavily jsme se Queen Victoria na indexu 15, ktera nedoplula. (bude tam mozna jeste Renneisance?)\n",
    "cruises = cruises.drop(15, axis='index') "
   ]
  },
  {
   "cell_type": "markdown",
   "metadata": {},
   "source": [
    "### Úprava data z formátu \"dd.mm.yyyy\" do formátu \"yyyy-mm-dd\":"
   ]
  },
  {
   "cell_type": "code",
   "execution_count": null,
   "metadata": {},
   "outputs": [],
   "source": [
    "cruises[[\"Day\", \"Month\", \"Year\"]] = cruises[\"Dato\"].str.split(\".\", expand=True)\n",
    "cruises[\"Date of arrival\"] = cruises[\"Year\"] + \"-\" + cruises[\"Month\"]+ \"-\" + cruises[\"Day\"]\n",
    "cruises[\"Date of departure\"] = cruises[\"Year\"] + \"-\" + cruises[\"Month\"]+ \"-\" + cruises[\"Day\"]\n",
    "cruises = cruises.drop([\"Dato\", \"Day\", \"Month\", \"Year\"], axis=\"columns\")\n",
    "cruises = cruises[[\"Date of arrival\",\"Date of departure\",'ETA','ETD','Navn','Passasjerer','Kai', 'Agent','Tonn', 'Lengde']]"
   ]
  },
  {
   "cell_type": "markdown",
   "metadata": {},
   "source": [
    "Nové sloupečky ETA date/ETD date - slepený čas + datum příjezdu/odjezdu lodě"
   ]
  },
  {
   "cell_type": "code",
   "execution_count": null,
   "metadata": {},
   "outputs": [],
   "source": [
    "cruises[\"ETA date\"] = cruises[\"Date of arrival\"] + \" \" + cruises[\"ETA\"] + \":00\"\n",
    "cruises[\"ETD date\"] = cruises[\"Date of arrival\"] + \" \" + cruises[\"ETD\"] + \":00\"\n",
    "\n",
    "# # Změní čas na typ datetime místo objectu, co to byl původně \n",
    "cruises[\"ETA date\"] = pd.to_datetime(cruises[\"ETA date\"], errors='coerce')\n",
    "cruises[\"ETD date\"] = pd.to_datetime(cruises[\"ETD date\"], errors='coerce')\n",
    "\n",
    "# # Vypočítá rozdíl v časech - vyhazuje to - 1 den když loď přijede před půlnocí a odjede na druhý den\n",
    "cruises[\"Time in harbour\"] = cruises[\"ETD date\"] - cruises[\"ETA date\"]\n",
    "\n",
    "#index name, ať se mi na to líp hledí\n",
    "cruises.index.name = \"ID\"\n"
   ]
  },
  {
   "cell_type": "markdown",
   "metadata": {},
   "source": [
    "### Převedení sloupečků 'Date of arrival' a 'Date of departure' na typ datetime64[ns]"
   ]
  },
  {
   "cell_type": "code",
   "execution_count": null,
   "metadata": {},
   "outputs": [],
   "source": [
    "cruises['Date of arrival'] = pd.to_datetime(cruises['Date of arrival'])\n",
    "cruises['Date of departure'] = pd.to_datetime(cruises['Date of departure'])\n"
   ]
  },
  {
   "cell_type": "markdown",
   "metadata": {},
   "source": [
    "### Projdi tabulku cruises a pokud je ve sloupci \"Time in harbour\" rozdíl méně než 0 dní 0:00:00, přičti ke sloupečku \"Date of departure\" jeden den: "
   ]
  },
  {
   "cell_type": "code",
   "execution_count": null,
   "metadata": {},
   "outputs": [],
   "source": [
    "# Definice podmínky, za které se přičte den navíc do sloupečku \"Date of departure\"\n",
    "podminka_pridani_dne = cruises[\"Time in harbour\"] < \"0 days 00:00:00\"\n",
    "\n",
    "# Aplikace podmínky\n",
    "cruises.loc[podminka_pridani_dne, \"Date of departure\"] = cruises[\"Date of departure\"] + timedelta(days=1)\n",
    "\n",
    "# zbavím se sloupečků, co nechci:\n",
    "cruises = cruises.drop([\"ETA date\", \"ETD date\", \"Time in harbour\"], axis=\"columns\")\n",
    "cruises.head(20)\n",
    "### Výsledná tabulka má date of departure o den větší než date of arrival, pokus je mezi časy příjezdu a odjezdu půlnoc"
   ]
  },
  {
   "cell_type": "markdown",
   "metadata": {},
   "source": [
    "## Export do csvčka"
   ]
  },
  {
   "cell_type": "code",
   "execution_count": null,
   "metadata": {},
   "outputs": [],
   "source": [
    "cruises.to_csv('data/cruises.csv') \n",
    "# cruises.to_csv('data/cruises.csv', index=False)  - tohle by bylo potom bez indexu"
   ]
  }
 ],
 "metadata": {
  "kernelspec": {
   "display_name": "Python 3",
   "language": "python",
   "name": "python3"
  },
  "language_info": {
   "codemirror_mode": {
    "name": "ipython",
    "version": 3
   },
   "file_extension": ".py",
   "mimetype": "text/x-python",
   "name": "python",
   "nbconvert_exporter": "python",
   "pygments_lexer": "ipython3",
   "version": "3.12.2"
  }
 },
 "nbformat": 4,
 "nbformat_minor": 2
}
