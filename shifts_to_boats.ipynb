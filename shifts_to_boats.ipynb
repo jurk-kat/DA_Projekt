{
 "cells": [
  {
   "cell_type": "code",
   "execution_count": null,
   "metadata": {},
   "outputs": [],
   "source": [
    "import pandas as pd"
   ]
  },
  {
   "cell_type": "code",
   "execution_count": null,
   "metadata": {},
   "outputs": [],
   "source": [
    "# recoding = pd.read_csv('data/05_shifts.csv', encoding ='Windows 1252')\n",
    "# recoding.to_csv('data/05_shifts_01.csv', encoding ='utf-8')"
   ]
  },
  {
   "cell_type": "code",
   "execution_count": null,
   "metadata": {},
   "outputs": [],
   "source": [
    "# pokus o vytazeni jmen pracovniku ze shifts. Nefunguje a ja nevim proc\n",
    "\n",
    "\n",
    "# names = pd.read_csv('data/05_shifts.csv')\n",
    "\n",
    "# # Getting distinct values from the 'names' column\n",
    "# distinct_names = names['Unnamed:0'].unique()\n",
    "\n",
    "# # Convert numpy array to a Python list\n",
    "# workers = distinct_names.tolist()\n",
    "\n",
    "# print(workers)"
   ]
  },
  {
   "cell_type": "code",
   "execution_count": null,
   "metadata": {},
   "outputs": [],
   "source": [
    "# -- Aidamar 2,194\n",
    "# -- bolette 1,338\n",
    "# -- borealis 1,353\n",
    "# -- gann 200\n",
    "# -- sh diana 192"
   ]
  },
  {
   "cell_type": "code",
   "execution_count": null,
   "metadata": {},
   "outputs": [],
   "source": [
    "# TOTO JE PUVODNE SKRIPT shifts. py. Snazim se ted napsat to do jednoho skriptu tak, abych nemusela delat mezikrok v LibreOfficu.\n",
    "\n",
    "with open('data/05_shifts.csv', mode='r', encoding='utf-8') as file:\n",
    "    text = file.read()\n",
    "splitted = text.split(\",\\n\")\n",
    "\n",
    "rest = []\n",
    "for clen in splitted:\n",
    "    if clen != ',,,,,,,':\n",
    "        rest.append(clen)\n",
    "\n",
    "workers = ['Kaisa', 'Lars Oskar', 'Anne Line', 'Hanne', 'Tiril', 'Andrea', 'Malin', 'Toni'] # da se napsat prikaz, ktery mi to z prvniho sloupecku vybere jako distinct hodnoty? - abych to nemusela vypisovat jako trotl\n",
    "\n",
    "ships = [item for item in rest if not any(name in item for name in workers)]\n",
    "\n",
    "ships_out = \"\\n\".join(ships)\n",
    "\n",
    "with open('data/05_shifts_to_boats.csv', mode='w', encoding='utf-8') as output_file:\n",
    "    print(ships_out, file=output_file)\n",
    "\n",
    "\n",
    "# mezikrok v cisteni mezi vysledkem tohoto a vstupnim souborem pro Shifts to boats byl udelat v libre office. Je mozne to udelat v pythonu a jak? Idealne bych to mela cele v jednom souboru, aby to bylo na 1 klik"
   ]
  },
  {
   "cell_type": "code",
   "execution_count": null,
   "metadata": {},
   "outputs": [],
   "source": [
    "# Doplneni '*' pred datum. Bude slouzit jako separator.\n",
    "\n",
    "# Load the CSV file, assuming no header in the file\n",
    "df_shifts = pd.read_csv('data/05_shifts_to_boats.csv', header=None)\n",
    "\n",
    "# Function to check if a cell contains a '/'\n",
    "def contains_slash(cell):\n",
    "    return '/' in str(cell)\n",
    "\n",
    "# Iterate over rows in the DataFrame\n",
    "for i in range(len(df_shifts)):\n",
    "    # Check if any cell in the row contains '/'\n",
    "    if any(contains_slash(cell) for cell in df_shifts.iloc[i]):\n",
    "        # Prepend '*' to the 'jmeno' column of this row\n",
    "        df_shifts.at[i, 0] = '*'\n",
    "\n",
    "# Save the updated DataFrame back to CSV\n",
    "df_shifts.to_csv('data/05_shifts_to_boats_01.csv', index=False, header=False)"
   ]
  },
  {
   "cell_type": "code",
   "execution_count": null,
   "metadata": {},
   "outputs": [],
   "source": [
    "# ted mam predcisteny soubor v takovem stavu, ze jsem se zbavila smen pracovniku, ktere nepotrebuju, prazdnych radku, ktere nepotrebuju a pred datumy/tydny mam hvezdicku - ta bude slouzit jako separator do budoucna.\n",
    "# co bych s tim ted chtela udelat: potrebuju to rozdelit pomosi te hvezdicky na jednotlive tabulky - mela bych pak mit treba seznam tabulek (slovnik?) a jednotlive tabulky poskladat za sebe (pomoci concat?). Ulozit jako shifts to boats 2. Mela bych se timto dostat do zakladniho kroku dalsiho oddilu\n",
    "with open('data/05_shifts_to_boats_01.csv', mode='r', encoding='utf-8') as file:\n",
    "    text = file.read()\n",
    "splitted = text.split(\"*\")\n",
    "\n",
    "print(splitted)\n"
   ]
  },
  {
   "cell_type": "code",
   "execution_count": null,
   "metadata": {},
   "outputs": [],
   "source": [
    "\n",
    "boats = pd.read_csv('data/05_shifts_to_boats_02.csv', encoding ='Windows 1252')\n",
    "boats = boats.T\n",
    "\n",
    "headers = ['boat1', 'time1', 'boat2', 'time2', 'boat3', 'time3']\n",
    "boats.columns = headers\n",
    "boats.index.name = 'date'\n",
    "\n",
    "\n",
    "boats.to_csv('data/05_shifts_to_boats_03.csv', encoding ='utf-8') # I am saving it and again opening because it cannot read the 1st header otherwise"
   ]
  },
  {
   "cell_type": "code",
   "execution_count": null,
   "metadata": {},
   "outputs": [],
   "source": [
    "# serazeni vsech zmen za sebe\n",
    "\n",
    "boats = pd.read_csv('data/05_shifts_to_boats_03.csv', encoding ='utf-8')\n",
    "\n",
    "boats1 = boats[['date', 'boat1', 'time1']]\n",
    "boats1 = boats1.rename(columns={'boat1' : 'boat', 'time1': 'time'})\n",
    "\n",
    "boats2 = boats[['date', 'boat2', 'time2']]\n",
    "boats2 = boats2.rename(columns={'boat2' : 'boat', 'time2': 'time'})\n",
    "\n",
    "boats3 = boats[['date', 'boat3', 'time3']]\n",
    "boats3 = boats3.rename(columns={'boat3' : 'boat', 'time3': 'time'})\n",
    "\n",
    "new_times = pd.concat([boats1, boats2, boats3], ignore_index=True)\n",
    "new_times"
   ]
  },
  {
   "cell_type": "code",
   "execution_count": null,
   "metadata": {},
   "outputs": [],
   "source": [
    "changes_only = new_times.dropna(subset=['boat'])\n",
    "changes_only = changes_only.drop(17, axis='index')\n",
    "changes_only"
   ]
  },
  {
   "cell_type": "code",
   "execution_count": null,
   "metadata": {},
   "outputs": [],
   "source": [
    "replacements = {\n",
    "    'Aidabella': 'AIDAbella',\n",
    "    'Aidaluna': 'AIDAluna',\n",
    "    'AidaMar': 'AIDAmar',\n",
    "    'Aidasol': 'AIDAsol',\n",
    "    'Preziosa': 'MSC Preziosa',\n",
    "    'Sverdrup': 'Otto Sverdrup',\n",
    "    'Sverdrup ?': 'Otto Sverdrup',\n",
    "    'Hamburg ?': 'Hamburg',\n",
    "    'Ocean Majesty?': 'Ocean Majesty',\n",
    "    'Mein Schiff': 'Mein Schiff 4',\n",
    "    'Island Princess?': 'Island Princess',\n",
    "    'Nieuw Statendam?': 'Nieuw Statendam',\n",
    "    \"Borealis 61'\": 'Borealis',\n",
    "    'Europa (Skarsv?g)': 'Europa',\n",
    "    'Pacific World (p1800)': 'Pacific World',\n",
    "    'Queen Viktoria (2200)': 'Queen Viktoria',\n",
    "    'Ambience p1000': 'Ambience',\n",
    "    'MS Marina p600': 'MS Marina',\n",
    "    'Riviera p1258': 'Riviera',\n",
    "    'Preziosa ': 'MSC Preziosa',\n",
    "    'Preziosa': 'MSC Preziosa',\n",
    "    'Ambition?': 'Ambition',\n",
    "    'Greg Mortimer p160': 'Greg Mortimer'\n",
    "}\n",
    "\n",
    "changes_only['boat'] = changes_only['boat'].replace(replacements)"
   ]
  },
  {
   "cell_type": "code",
   "execution_count": null,
   "metadata": {},
   "outputs": [],
   "source": [
    "changes_only.to_csv('data/05_shifts_to_boats_04.csv', encoding ='utf-8', index=False)"
   ]
  }
 ],
 "metadata": {
  "kernelspec": {
   "display_name": "Python 3",
   "language": "python",
   "name": "python3"
  },
  "language_info": {
   "codemirror_mode": {
    "name": "ipython",
    "version": 3
   },
   "file_extension": ".py",
   "mimetype": "text/x-python",
   "name": "python",
   "nbconvert_exporter": "python",
   "pygments_lexer": "ipython3",
   "version": "3.12.2"
  }
 },
 "nbformat": 4,
 "nbformat_minor": 2
}
